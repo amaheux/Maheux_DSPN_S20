{
 "cells": [
  {
   "cell_type": "markdown",
   "metadata": {},
   "source": [
    "# Homework 2: Data tables"
   ]
  },
  {
   "cell_type": "markdown",
   "metadata": {},
   "source": [
    "This homework assignment is designed to get you comfortable loading and working with data tables.\n",
    "\n",
    "You will need to download the **unrestricted_trimmed_1_7_2020_10_50_44.csv** file from the [_Homework/_hcp_data](https://github.com/CoAxLab/DataSciencePsychNeuro_CMU85732/tree/master/Homeworks/hcp_data) folder on the class GitHub repository. \n",
    "\n",
    "We will be using this dataset for several assignments in this course. Please download the data dictionary as well to get to konw the different variables. When you are finished, save the notebook as Homework2_DataTables.ipynb, push it to your class GitHub repository (that you made for Homework 1) and email me the link to your notebook via Canvas."
   ]
  },
  {
   "cell_type": "markdown",
   "metadata": {},
   "source": [
    "---\n",
    "1. Set up the working directory to where you downloaded the homework file and load the data table from the unrestricted_trimmed_1_7_2020_10_50_44.csv.csv file"
   ]
  },
  {
   "cell_type": "code",
   "execution_count": 1,
   "metadata": {},
   "outputs": [],
   "source": [
    "setwd('/Users/AnnieMaheux/DataScience2020/Maheux_DSPN_S20/Data')"
   ]
  },
  {
   "cell_type": "markdown",
   "metadata": {},
   "source": [
    "2. Subset the data such that we are only working with two variables, the total grey matter volumne (FS_Total_GM_Vol) and the total white matter volume (FS_Tot_WM_Vol). Also filter the rows so that we are only looking at 22-25-year-olds, and remove any empty entries (i.e., \"na\"). Use the pipes operator to do this efficiently. Store the output dataset as a new variable called _d1_ and use the _print_ command to view it."
   ]
  },
  {
   "cell_type": "code",
   "execution_count": 2,
   "metadata": {},
   "outputs": [],
   "source": [
    "data <- unrestricted_trimmed_1_7_2020_10_50_44 \n",
    "\n",
    "data %>% na.omit() %>% \n",
    "  select(FS_Total_GM_Vol, FS_Tot_WM_Vol, Age, Gender) %>% \n",
    "  filter(Age == '22-25') -> d1\n",
    "print(d1)"
   ]
  },
  {
   "cell_type": "markdown",
   "metadata": {},
   "source": [
    "3. Now let's practice transforming the dataset from long format to wide format. Take the _d1_ table and reshape it such that the two brain measures (total grey matter and total white matter) are collapsed into a single column called 'BrainMeasures' and the numeric column will be called 'Volume'. Store the output data table as _d_long_"
   ]
  },
  {
   "cell_type": "code",
   "execution_count": 3,
   "metadata": {},
   "outputs": [],
   "source": [
    "d1 %>% gather(BrainMeasures, Volume, FS_Total_GM_Vol:FS_Tot_WM_Vol) ->dlong"
   ]
  },
  {
   "cell_type": "markdown",
   "metadata": {},
   "source": [
    "4. Finally use the _d_long_ table to get summary information separately for the genders, Male and Female. For summary information, please use mean, standard deviation and n(number of observations). Again, use the pipes operator to do this efficiently. Store this output matrix as _d_sum_ and print the output."
   ]
  },
  {
   "cell_type": "code",
   "execution_count": null,
   "metadata": {},
   "outputs": [],
   "source": [
    "dlong %>% group_by(Gender) %>% summarise(mean=mean(Volume), sd=sd(Volume), n=n()) -> dsum\n",
    "print(dsum)"
   ]
  },
  {
   "cell_type": "markdown",
   "metadata": {},
   "source": [
    "**DUE:** 5pm EST, January 31, 2020"
   ]
  }
 ],
 "metadata": {
  "kernelspec": {
   "display_name": "R",
   "language": "R",
   "name": "ir"
  },
  "language_info": {
   "codemirror_mode": "r",
   "file_extension": ".r",
   "mimetype": "text/x-r-source",
   "name": "R",
   "pygments_lexer": "r",
   "version": "3.5.1"
  }
 },
 "nbformat": 4,
 "nbformat_minor": 2
}
